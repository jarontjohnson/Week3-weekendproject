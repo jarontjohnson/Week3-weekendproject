{
 "cells": [
  {
   "cell_type": "code",
   "execution_count": 1,
   "metadata": {},
   "outputs": [],
   "source": [
    "class Home:\n",
    "    def __init__(self, income, expenses, investments):\n",
    "        self.income = income\n",
    "        self.expenses = expenses\n",
    "        self.cash_flow = 0\n",
    "        self.roi = 0\n",
    "        self.investments = investments\n",
    "\n",
    "    def cash_flow(self):\n",
    "        self.cash_flow = self.income - self.expenses\n",
    "        return self.cash_flow\n",
    "\n",
    "    def assets(self,amount):\n",
    "        self.income += amount\n",
    "\n",
    "    def calculate_cash_flow(self):\n",
    "        self.cash_flow = self.cash_flow * 12\n",
    "        return self.cash_flow\n",
    "    \n",
    "    def calculate_roi(self):\n",
    "        self.roi = (self.cash_flow - self.investments) * 100\n",
    "        return self.roi\n",
    "    \n",
    "monthly_income = int(input(\"Enter your monthly income: \"))\n",
    "assets = int(input(\"Enter your assets: \"))\n",
    "monthly_expenses = int(input(\"Enter your monthly expenses: \"))\n",
    "investments = int(input(\"Enter your total investments: \"))\n",
    "\n",
    "r = Home(monthly_income, monthly_expenses, investments)\n",
    "r.assets(assets)\n",
    "r.cash_flow()\n",
    "r.calculate_cash_flow()\n",
    "r.calculate_roi()\n",
    "\n",
    "print(\"Your total ROI is: \" + str(r.roi) + \"%\") # print(r.roi)"
   ]
  }
 ],
 "metadata": {
  "kernelspec": {
   "display_name": "base",
   "language": "python",
   "name": "python3"
  },
  "language_info": {
   "codemirror_mode": {
    "name": "ipython",
    "version": 3
   },
   "file_extension": ".py",
   "mimetype": "text/x-python",
   "name": "python",
   "nbconvert_exporter": "python",
   "pygments_lexer": "ipython3",
   "version": "3.11.5"
  }
 },
 "nbformat": 4,
 "nbformat_minor": 2
}
