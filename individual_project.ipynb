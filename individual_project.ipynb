{
 "cells": [
  {
   "cell_type": "code",
   "execution_count": 1,
   "metadata": {},
   "outputs": [],
   "source": [
    "class Home:\n",
    "    def __init__(self, income, expenses, cash_flow, cash_on_cash_roi):\n",
    "        self.income = income\n",
    "        self.expenses = expenses\n",
    "        self.cash_flow = cash_flow\n",
    "        self.cash_on_cash_roi = cash_on_cash_roi\n",
    "\n",
    "    def income(self):\n",
    "        income = input(\"Enter Income(or type 'q' to exit): \")\n",
    "        if income.lower() == \"q\":\n",
    "            sys.exit()\n",
    "\n",
    "    def expenses(self):\n",
    "        expenses = input(\"Enter Income(or type 'q' to exit): \")\n",
    "        if expenses.lower() == \"q\":\n",
    "            sys.exit()\n",
    "\n",
    "    def calculate_cash_flow(self):\n",
    "        return self.income - self.expenses\n",
    "    \n",
    "    def calculate_cash_on_cash_return(self):\n",
    "        total_cash_investment = (self.income - self.expenses) \n",
    "        annual_cash_flow = self.calculate_cash_flow() * 12\n",
    "        return (annual_cash_flow / total_cash_investment) * 100"
   ]
  }
 ],
 "metadata": {
  "kernelspec": {
   "display_name": "base",
   "language": "python",
   "name": "python3"
  },
  "language_info": {
   "codemirror_mode": {
    "name": "ipython",
    "version": 3
   },
   "file_extension": ".py",
   "mimetype": "text/x-python",
   "name": "python",
   "nbconvert_exporter": "python",
   "pygments_lexer": "ipython3",
   "version": "3.11.5"
  }
 },
 "nbformat": 4,
 "nbformat_minor": 2
}
